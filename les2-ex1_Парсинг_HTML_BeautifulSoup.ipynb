{
 "cells": [
  {
   "cell_type": "markdown",
   "id": "5d278803",
   "metadata": {},
   "source": [
    "# Тема \"Методы сбора и обработки данных из сети Интернет\""
   ]
  },
  {
   "cell_type": "markdown",
   "id": "6e6a7090",
   "metadata": {},
   "source": [
    "### Урок 2. Парсинг HTML. BeautifulSoup"
   ]
  },
  {
   "cell_type": "markdown",
   "id": "96693be0",
   "metadata": {},
   "source": [
    "---\n",
    "### Задание 1\n",
    "\n",
    "Необходимо собрать информацию о вакансиях на вводимую должность (используем `input` или через аргументы получаем должность) с сайтов **hh.ru** (обязательно) и/или **superjob.ru** (по желанию). Приложение должно анализировать несколько страниц сайта (также вводим через `input` или аргументы). Получившийся список должен содержать в себе минимум:\n",
    "1. Наименование вакансии.\n",
    "2. Предлагаемую зарплату (разносим в три поля: минимальная и максимальная и валюта. цифры преобразуем к цифрам).\n",
    "3. Ссылку на саму вакансию.\n",
    "4. Сайт, откуда собрана вакансия.\n",
    "\n",
    "По желанию можно добавить ещё параметры вакансии (например, работодателя и расположение). Структура должна быть одинаковая для вакансий с обоих сайтов. Общий результат можно вывести с помощью `dataFrame` через `pandas`. Сохраните в `json` либо `csv`."
   ]
  },
  {
   "cell_type": "code",
   "execution_count": 1,
   "id": "60c0a59d",
   "metadata": {},
   "outputs": [],
   "source": [
    "import requests\n",
    "from bs4 import BeautifulSoup as bs\n",
    "import pandas as pd\n",
    "import json"
   ]
  },
  {
   "cell_type": "code",
   "execution_count": 2,
   "id": "977beab2",
   "metadata": {},
   "outputs": [
    {
     "name": "stdout",
     "output_type": "stream",
     "text": [
      "Введите искомую должность: python\n"
     ]
    }
   ],
   "source": [
    "position = input('Введите искомую должность: ')"
   ]
  },
  {
   "cell_type": "code",
   "execution_count": 3,
   "id": "750f32ff",
   "metadata": {},
   "outputs": [],
   "source": [
    "# https://hh.ru/search/vacancy?area=1&fromSearchLine=true&st=searchVacancy&text=%D0%9F%D1%80%D0%BE%D0%B3%D1%80%D0%B0%D0%BC%D0%BC%D0%B8%D1%81%D1%82+python&from=suggest_post&page=0\n",
    "url = 'https://hh.ru'\n",
    "params = {'area': 1,\n",
    "          'fromSearchLine': 'true',\n",
    "          'st': 'searchVacancy',\n",
    "          'text': position,\n",
    "          'page': 0\n",
    "          }\n",
    "headers = {'User-Agent': 'Mozilla/5.0 (Windows NT 10.0; Win64; x64) AppleWebKit/537.36 (KHTML, like Gecko) '\n",
    "                         'Chrome/94.0.4606.71 Safari/537.36 Edg/94.0.992.38'}"
   ]
  },
  {
   "cell_type": "code",
   "execution_count": 4,
   "id": "c53caf5e",
   "metadata": {},
   "outputs": [],
   "source": [
    "url_full = url + '/search/vacancy'"
   ]
  },
  {
   "cell_type": "code",
   "execution_count": 5,
   "id": "f8815fbb",
   "metadata": {},
   "outputs": [],
   "source": [
    "positions = []"
   ]
  },
  {
   "cell_type": "code",
   "execution_count": 6,
   "id": "5d54d64f",
   "metadata": {},
   "outputs": [],
   "source": [
    "df = pd.DataFrame(columns=['website', '_id', 'title', 'employer', 'address', 'salary_min',\n",
    "                           'salary_max', 'salary_currency', 'link'])"
   ]
  },
  {
   "cell_type": "code",
   "execution_count": 7,
   "id": "294a14ff",
   "metadata": {},
   "outputs": [],
   "source": [
    "# Функция выборки мин. и макс. зарплаты, если есть\n",
    "def salary_values(salary_soup):\n",
    "    if not salary_soup:\n",
    "        salary_min = None\n",
    "        salary_max = None\n",
    "        salary_currency = None\n",
    "    else:\n",
    "        salary_list = salary_soup.getText().replace(u'\\u202f', u'').split()\n",
    "        if salary_list[0] == 'от':\n",
    "            salary_min = int(salary_list[1])\n",
    "            salary_max = None\n",
    "        elif salary_list[0] == 'до':\n",
    "            salary_min = None\n",
    "            salary_max = int(salary_list[1])\n",
    "        else:\n",
    "            salary_min = int(salary_list[0])\n",
    "            salary_max = int(salary_list[2])\n",
    "        if len(salary_list) > 3:\n",
    "            salary_currency = ' '.join(salary_list[3:])\n",
    "        else:\n",
    "            salary_currency = salary_list[2]\n",
    "    return [salary_min, salary_max, salary_currency]"
   ]
  },
  {
   "cell_type": "code",
   "execution_count": 8,
   "id": "8d700e5c",
   "metadata": {},
   "outputs": [
    {
     "name": "stdout",
     "output_type": "stream",
     "text": [
      "Переходим на страницу 2\n",
      "Переходим на страницу 3\n",
      "Переходим на страницу 4\n",
      "Переходим на страницу 5\n",
      "Переходим на страницу 6\n",
      "Переходим на страницу 7\n",
      "Переходим на страницу 8\n",
      "Переходим на страницу 9\n",
      "Переходим на страницу 10\n",
      "Переходим на страницу 11\n",
      "Переходим на страницу 12\n",
      "Переходим на страницу 13\n",
      "Переходим на страницу 14\n",
      "Переходим на страницу 15\n",
      "Переходим на страницу 16\n",
      "Переходим на страницу 17\n",
      "Переходим на страницу 18\n",
      "Переходим на страницу 19\n",
      "Переходим на страницу 20\n",
      "Переходим на страницу 21\n",
      "Переходим на страницу 22\n",
      "Переходим на страницу 23\n",
      "Переходим на страницу 24\n",
      "Переходим на страницу 25\n",
      "Переходим на страницу 26\n",
      "Переходим на страницу 27\n",
      "Переходим на страницу 28\n",
      "Переходим на страницу 29\n",
      "Переходим на страницу 30\n",
      "Переходим на страницу 31\n",
      "Переходим на страницу 32\n",
      "Переходим на страницу 33\n",
      "Переходим на страницу 34\n",
      "Переходим на страницу 35\n",
      "Переходим на страницу 36\n",
      "Переходим на страницу 37\n",
      "Переходим на страницу 38\n",
      "Переходим на страницу 39\n",
      "Переходим на страницу 40\n",
      "Страницы закончились\n"
     ]
    }
   ],
   "source": [
    "while True:\n",
    "    response = requests.get(url_full, params=params, headers=headers)\n",
    "    soup = bs(response.text, 'html.parser')\n",
    "    position_list = soup.find_all('div', attrs={'class': 'vacancy-serp-item'})\n",
    "\n",
    "    for position in position_list:\n",
    "        position_data = {}\n",
    "\n",
    "        position_info1 = position.find('a', attrs={'data-qa': 'vacancy-serp__vacancy-title'})\n",
    "        position_info2 = position.find('span', attrs={'data-qa': 'vacancy-serp__vacancy-address'})\n",
    "        position_info3 = position.find('div', attrs={'class': 'vacancy-serp-item__meta-info-company'})\n",
    "        position_info4 = position.find('span', attrs={'data-qa': 'vacancy-serp__vacancy-compensation'})\n",
    "\n",
    "        position_data['website'] = url\n",
    "        position_data['_id'] = position_info1['href'].split('?')[0].split('/')[-1]\n",
    "        position_data['title'] = position_info1.getText()\n",
    "        position_data['employer'] = position_info3.getText()\n",
    "        position_data['address'] = position_info2.getText()\n",
    "        position_data['salary_min'] = salary_values(position_info4)[0]\n",
    "        position_data['salary_max'] = salary_values(position_info4)[1]\n",
    "        position_data['salary_currency'] = salary_values(position_info4)[2]\n",
    "        position_data['link'] = position_info1['href']\n",
    "\n",
    "        positions.append(position_data)\n",
    "\n",
    "    # переход к следующей странице, если есть\n",
    "    # Поиск кнопки \"дальше\"\n",
    "    button_next = soup.find('a', text='дальше')\n",
    "\n",
    "    # Проверяем есть ли кнопка \"дальше\"\n",
    "    if not button_next or not response.ok:\n",
    "        print('Страницы закончились')\n",
    "        # выходим из цикла, если кнопки \"дальше\" нет\n",
    "        break\n",
    "    else:\n",
    "        # Увеличиваем номер страницы если кнопка \"дальше\" есть\n",
    "        params['page'] += 1\n",
    "        print(f\"Переходим на страницу {int(params['page']) + 1}\")"
   ]
  },
  {
   "cell_type": "code",
   "execution_count": 9,
   "id": "3de861e0",
   "metadata": {},
   "outputs": [
    {
     "name": "stdout",
     "output_type": "stream",
     "text": [
      "Количество собранных вакансий: 800\n"
     ]
    }
   ],
   "source": [
    "print(f'Количество собранных вакансий: {len(positions)}')"
   ]
  },
  {
   "cell_type": "code",
   "execution_count": 10,
   "id": "321b10e8",
   "metadata": {},
   "outputs": [],
   "source": [
    "df = df.append(positions)"
   ]
  },
  {
   "cell_type": "code",
   "execution_count": 11,
   "id": "4eb6b36b",
   "metadata": {},
   "outputs": [
    {
     "data": {
      "text/html": [
       "<div>\n",
       "<style scoped>\n",
       "    .dataframe tbody tr th:only-of-type {\n",
       "        vertical-align: middle;\n",
       "    }\n",
       "\n",
       "    .dataframe tbody tr th {\n",
       "        vertical-align: top;\n",
       "    }\n",
       "\n",
       "    .dataframe thead th {\n",
       "        text-align: right;\n",
       "    }\n",
       "</style>\n",
       "<table border=\"1\" class=\"dataframe\">\n",
       "  <thead>\n",
       "    <tr style=\"text-align: right;\">\n",
       "      <th></th>\n",
       "      <th>website</th>\n",
       "      <th>title</th>\n",
       "      <th>salary_min</th>\n",
       "      <th>salary_max</th>\n",
       "      <th>salary_currency</th>\n",
       "      <th>link</th>\n",
       "    </tr>\n",
       "  </thead>\n",
       "  <tbody>\n",
       "    <tr>\n",
       "      <th>0</th>\n",
       "      <td>https://hh.ru</td>\n",
       "      <td>Python разработчик</td>\n",
       "      <td>NaN</td>\n",
       "      <td>380000.0</td>\n",
       "      <td>руб.</td>\n",
       "      <td>https://hh.ru/vacancy/47682360?from=vacancy_se...</td>\n",
       "    </tr>\n",
       "    <tr>\n",
       "      <th>1</th>\n",
       "      <td>https://hh.ru</td>\n",
       "      <td>Стажер разработчик Python</td>\n",
       "      <td>20000.0</td>\n",
       "      <td>50000.0</td>\n",
       "      <td>руб.</td>\n",
       "      <td>https://hh.ru/vacancy/47861001?from=vacancy_se...</td>\n",
       "    </tr>\n",
       "    <tr>\n",
       "      <th>2</th>\n",
       "      <td>https://hh.ru</td>\n",
       "      <td>Junior Data Engineer (Python)</td>\n",
       "      <td>120000.0</td>\n",
       "      <td>120000.0</td>\n",
       "      <td>руб.</td>\n",
       "      <td>https://hh.ru/vacancy/47914759?from=vacancy_se...</td>\n",
       "    </tr>\n",
       "    <tr>\n",
       "      <th>3</th>\n",
       "      <td>https://hh.ru</td>\n",
       "      <td>Разработчик Python</td>\n",
       "      <td>240000.0</td>\n",
       "      <td>300000.0</td>\n",
       "      <td>руб.</td>\n",
       "      <td>https://hh.ru/vacancy/48652821?from=vacancy_se...</td>\n",
       "    </tr>\n",
       "    <tr>\n",
       "      <th>4</th>\n",
       "      <td>https://hh.ru</td>\n",
       "      <td>Разработчик Python / Программист Python (удале...</td>\n",
       "      <td>60000.0</td>\n",
       "      <td>NaN</td>\n",
       "      <td>руб.</td>\n",
       "      <td>https://hh.ru/vacancy/48496694?from=vacancy_se...</td>\n",
       "    </tr>\n",
       "    <tr>\n",
       "      <th>5</th>\n",
       "      <td>https://hh.ru</td>\n",
       "      <td>Разработчик Rust/Разработчик Go/Разрабочтик py...</td>\n",
       "      <td>300000.0</td>\n",
       "      <td>NaN</td>\n",
       "      <td>руб.</td>\n",
       "      <td>https://hh.ru/vacancy/48457284?from=vacancy_se...</td>\n",
       "    </tr>\n",
       "    <tr>\n",
       "      <th>6</th>\n",
       "      <td>https://hh.ru</td>\n",
       "      <td>Middle Python/Flask developer</td>\n",
       "      <td>180000.0</td>\n",
       "      <td>250000.0</td>\n",
       "      <td>руб.</td>\n",
       "      <td>https://hh.ru/vacancy/48641636?from=vacancy_se...</td>\n",
       "    </tr>\n",
       "    <tr>\n",
       "      <th>7</th>\n",
       "      <td>https://hh.ru</td>\n",
       "      <td>Python-разработчик (Django, DRF)</td>\n",
       "      <td>60000.0</td>\n",
       "      <td>150000.0</td>\n",
       "      <td>руб.</td>\n",
       "      <td>https://hh.ru/vacancy/39736489?from=vacancy_se...</td>\n",
       "    </tr>\n",
       "    <tr>\n",
       "      <th>8</th>\n",
       "      <td>https://hh.ru</td>\n",
       "      <td>Python Backend Developer Blockchain</td>\n",
       "      <td>250000.0</td>\n",
       "      <td>450000.0</td>\n",
       "      <td>руб.</td>\n",
       "      <td>https://hh.ru/vacancy/48663627?from=vacancy_se...</td>\n",
       "    </tr>\n",
       "    <tr>\n",
       "      <th>9</th>\n",
       "      <td>https://hh.ru</td>\n",
       "      <td>Программист Python (стажер)</td>\n",
       "      <td>NaN</td>\n",
       "      <td>NaN</td>\n",
       "      <td>None</td>\n",
       "      <td>https://hh.ru/vacancy/46526734?from=vacancy_se...</td>\n",
       "    </tr>\n",
       "  </tbody>\n",
       "</table>\n",
       "</div>"
      ],
      "text/plain": [
       "         website                                              title  \\\n",
       "0  https://hh.ru                                 Python разработчик   \n",
       "1  https://hh.ru                          Стажер разработчик Python   \n",
       "2  https://hh.ru                      Junior Data Engineer (Python)   \n",
       "3  https://hh.ru                                 Разработчик Python   \n",
       "4  https://hh.ru  Разработчик Python / Программист Python (удале...   \n",
       "5  https://hh.ru  Разработчик Rust/Разработчик Go/Разрабочтик py...   \n",
       "6  https://hh.ru                      Middle Python/Flask developer   \n",
       "7  https://hh.ru                   Python-разработчик (Django, DRF)   \n",
       "8  https://hh.ru                Python Backend Developer Blockchain   \n",
       "9  https://hh.ru                        Программист Python (стажер)   \n",
       "\n",
       "   salary_min  salary_max salary_currency  \\\n",
       "0         NaN    380000.0            руб.   \n",
       "1     20000.0     50000.0            руб.   \n",
       "2    120000.0    120000.0            руб.   \n",
       "3    240000.0    300000.0            руб.   \n",
       "4     60000.0         NaN            руб.   \n",
       "5    300000.0         NaN            руб.   \n",
       "6    180000.0    250000.0            руб.   \n",
       "7     60000.0    150000.0            руб.   \n",
       "8    250000.0    450000.0            руб.   \n",
       "9         NaN         NaN            None   \n",
       "\n",
       "                                                link  \n",
       "0  https://hh.ru/vacancy/47682360?from=vacancy_se...  \n",
       "1  https://hh.ru/vacancy/47861001?from=vacancy_se...  \n",
       "2  https://hh.ru/vacancy/47914759?from=vacancy_se...  \n",
       "3  https://hh.ru/vacancy/48652821?from=vacancy_se...  \n",
       "4  https://hh.ru/vacancy/48496694?from=vacancy_se...  \n",
       "5  https://hh.ru/vacancy/48457284?from=vacancy_se...  \n",
       "6  https://hh.ru/vacancy/48641636?from=vacancy_se...  \n",
       "7  https://hh.ru/vacancy/39736489?from=vacancy_se...  \n",
       "8  https://hh.ru/vacancy/48663627?from=vacancy_se...  \n",
       "9  https://hh.ru/vacancy/46526734?from=vacancy_se...  "
      ]
     },
     "execution_count": 11,
     "metadata": {},
     "output_type": "execute_result"
    }
   ],
   "source": [
    "df[['website', 'title', 'salary_min', 'salary_max', 'salary_currency', 'link']][:10]"
   ]
  },
  {
   "cell_type": "code",
   "execution_count": 12,
   "id": "127f6edb",
   "metadata": {},
   "outputs": [
    {
     "name": "stdout",
     "output_type": "stream",
     "text": [
      "Данные сохранены в файл: positions.json\n"
     ]
    }
   ],
   "source": [
    "# Сохраняем данные в файл формата json\n",
    "with open('positions.json', 'w') as f:\n",
    "    json.dump(positions, f, indent=4)\n",
    "print(\"Данные сохранены в файл: positions.json\")"
   ]
  }
 ],
 "metadata": {
  "interpreter": {
   "hash": "a8f61be024eba58adef938c9aa1e29e02cb3dece83a5348b1a2dafd16a070453"
  },
  "kernelspec": {
   "display_name": "Python 3",
   "language": "python",
   "name": "python3"
  },
  "language_info": {
   "codemirror_mode": {
    "name": "ipython",
    "version": 3
   },
   "file_extension": ".py",
   "mimetype": "text/x-python",
   "name": "python",
   "nbconvert_exporter": "python",
   "pygments_lexer": "ipython3",
   "version": "3.8.8"
  }
 },
 "nbformat": 4,
 "nbformat_minor": 5
}
