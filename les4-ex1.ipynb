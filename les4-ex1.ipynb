{
 "cells": [
  {
   "cell_type": "markdown",
   "id": "e5a18bae",
   "metadata": {},
   "source": [
    "# Тема \"Методы сбора и обработки данных из сети Интернет\""
   ]
  },
  {
   "cell_type": "markdown",
   "id": "5e3d7bcf",
   "metadata": {},
   "source": [
    "### Урок 4. Парсинг HTML. XPath"
   ]
  },
  {
   "cell_type": "markdown",
   "id": "cbc7151a",
   "metadata": {},
   "source": [
    "---\n",
    "### Задание 1\n",
    "\n",
    "Написать приложение, которое собирает основные новости с сайта на выбор: **news.mail.ru**, **lenta.ru**, **yandex-новости**.\n",
    "\n",
    "Для парсинга использовать **XPath**.\n",
    "\n",
    "Структура данных должна содержать:\n",
    "- название источника;\n",
    "- наименование новости;\n",
    "- ссылку на новость;\n",
    "- дата публикации.\n",
    "\n",
    "Сложить собранные новости в БД\n",
    "\n",
    "Минимум один сайт, максимум - все три"
   ]
  },
  {
   "cell_type": "code",
   "execution_count": 2,
   "id": "a44633f0",
   "metadata": {},
   "outputs": [],
   "source": [
    "import requests\n",
    "from lxml import html\n",
    "from pymongo import MongoClient\n",
    "from pymongo.errors import DuplicateKeyError as dke\n",
    "from pprint import pprint"
   ]
  },
  {
   "cell_type": "code",
   "execution_count": 3,
   "id": "3e50f7ad",
   "metadata": {},
   "outputs": [],
   "source": [
    "from datetime import timedelta, datetime"
   ]
  },
  {
   "cell_type": "code",
   "execution_count": 4,
   "id": "dd93677c",
   "metadata": {},
   "outputs": [],
   "source": [
    "client = MongoClient('127.0.0.1', 27017)\n",
    "db = client['ya_news']"
   ]
  },
  {
   "cell_type": "code",
   "execution_count": 5,
   "id": "11cb5322",
   "metadata": {},
   "outputs": [],
   "source": [
    "url = 'https://yandex.ru/news/?utm_source=main_stripe_big'"
   ]
  },
  {
   "cell_type": "code",
   "execution_count": 6,
   "id": "a61d62ba",
   "metadata": {},
   "outputs": [],
   "source": [
    "headers = {'User-Agent': 'Mozilla/5.0 (Windows NT 10.0; Win64; x64) AppleWebKit/537.36 (KHTML, like Gecko) Chrome/94.0.4606.61 Safari/537.36 Edg/94.0.992.31'}"
   ]
  },
  {
   "cell_type": "code",
   "execution_count": 8,
   "id": "eca00cc7",
   "metadata": {},
   "outputs": [],
   "source": [
    "rubrics = ['personal_feed', 'computers', 'science']"
   ]
  },
  {
   "cell_type": "code",
   "execution_count": 11,
   "id": "f8ce5d87",
   "metadata": {},
   "outputs": [],
   "source": [
    "response = requests.get(url, headers=headers)  # params=params, proxies=proxies, если необходимо"
   ]
  },
  {
   "cell_type": "code",
   "execution_count": 12,
   "id": "132643a1",
   "metadata": {},
   "outputs": [
    {
     "name": "stdout",
     "output_type": "stream",
     "text": [
      "ДНК фекалий показала, что древние люди Австрии 2700 лет назад пили пиво и ели голубой сыр\n",
      "2021-10-14 16:38 FBM.ru\n",
      "Полученные результаты являются первым доказательством того, что люди производили голубой сыр в Европе железного века почти 2700 лет назад.\n",
      "https://yandex.ru/news/story/DNK_fekalij_pokazala_chto_drevnie_lyudi_Avstrii_2700_let_nazad_pili_pivo_i_eli_goluboj_syr--052ae9afc185e989cfc4a368ecf286af?lang=ru&rubric=science&fan=1&stid=apwi5AsTuDls17PA6R2T&t=1634219349&persistent_id=166620483\n",
      "\n",
      "Исследователь Арно Висмар: запах путресцина вызвал тревогу у респондентов\n",
      "2021-10-14 16:27 Телеканал 360°\n",
      "Исследователь Арно Висмар из школы психологии Университета Кента в Великобритании смог предположить, какой запах ассоциируется со смертью.\n",
      "https://yandex.ru/news/story/Issledovatel_Arno_Vismar_zapakh_putrescina_vyzval_trevogu_urespondentov--e3353553a0359f29d54f6678ca923243?lang=ru&rubric=science&fan=1&stid=NpKpYFCebPfLsdhTGcCU&t=1634219349&persistent_id=166640033\n",
      "\n",
      "Студентка БФУ имени Канта нашла затопленный корабль в Балтийском море у Куршской косы\n",
      "2021-10-14 16:27 FBM.ru\n",
      "Недалеко от Куршской косы, которая находится в Балтийском море, было найдено затопленное военное судно.\n",
      "https://yandex.ru/news/story/Studentka_BFU_imeni_Kanta_nashla_zatoplennyj_korabl_vBaltijskom_more_uKurshskoj_kosy--06f4361b671937bd67af7094a3601928?lang=ru&rubric=science&fan=1&stid=qdxAZk0fZbk954gOO9e2&t=1634219349&persistent_id=166668650\n",
      "\n",
      "В образцах крови космонавтов обнаружены три биомаркера повреждения мозга\n",
      "2021-10-14 14:23 FBM.ru\n",
      "Было обнаружено множество серьезных «космических болезней»: атрофия мышц, изменение костей и ухудшение зрения и т.д. В новом исследовании немецкие ученые из Мюнхенского университета Людвига-Максимилиана при поддержке коллег из Гетеборгского университета и Института медико-биологических проблем РАН по образцам крови выявили признаки повреждения клеток мозга.\n",
      "https://yandex.ru/news/story/Vobrazcakh_krovi_kosmonavtov_obnaruzheny_tri_biomarkera_povrezhdeniya_mozga--86d4b94157fba323d573ed17674c0593?lang=ru&rubric=science&fan=1&stid=UC0htlwTmq4RHF_h66cu&t=1634219349&persistent_id=166271301\n",
      "\n",
      "В США обнаружили обугленные семена табака возрастом более 12 тысяч лет\n",
      "2021-10-14 12:43 N+1\n",
      "Археологи обнаружили в ходе раскопок древней стоянки на западе США четыре обугленных семени табака, возраст которых около 12300 лет, что делает их древнейшим вероятным свидетельством употребления человеком этого растения.\n",
      "https://yandex.ru/news/story/VSSHA_obnaruzhili_obuglennye_semena_tabaka_vozrastom_bolee_12_tysyach_let--58f711f34cac4eacec86c0f140e1991b?lang=ru&rubric=science&fan=1&stid=KRy4DgGO0bArSugi59Ec&t=1634219349&persistent_id=166183236\n",
      "\n",
      "ДНК фекалий показала, что древние люди Австрии 2700 лет назад пили пиво и ели голубой сыр\n",
      "2021-10-14 16:38 FBM.ru\n",
      "Полученные результаты являются первым доказательством того, что люди производили голубой сыр в Европе железного века почти 2700 лет назад.\n",
      "https://yandex.ru/news/story/DNK_fekalij_pokazala_chto_drevnie_lyudi_Avstrii_2700_let_nazad_pili_pivo_i_eli_goluboj_syr--052ae9afc185e989cfc4a368ecf286af?lang=ru&rubric=science&fan=1&stid=apwi5AsTuDls17PA6R2T&t=1634219349&persistent_id=166620483\n",
      "\n",
      "Исследователь Арно Висмар: запах путресцина вызвал тревогу у респондентов\n",
      "2021-10-14 16:27 Телеканал 360°\n",
      "Исследователь Арно Висмар из школы психологии Университета Кента в Великобритании смог предположить, какой запах ассоциируется со смертью.\n",
      "https://yandex.ru/news/story/Issledovatel_Arno_Vismar_zapakh_putrescina_vyzval_trevogu_urespondentov--e3353553a0359f29d54f6678ca923243?lang=ru&rubric=science&fan=1&stid=NpKpYFCebPfLsdhTGcCU&t=1634219349&persistent_id=166640033\n",
      "\n",
      "Студентка БФУ имени Канта нашла затопленный корабль в Балтийском море у Куршской косы\n",
      "2021-10-14 16:27 FBM.ru\n",
      "Недалеко от Куршской косы, которая находится в Балтийском море, было найдено затопленное военное судно.\n",
      "https://yandex.ru/news/story/Studentka_BFU_imeni_Kanta_nashla_zatoplennyj_korabl_vBaltijskom_more_uKurshskoj_kosy--06f4361b671937bd67af7094a3601928?lang=ru&rubric=science&fan=1&stid=qdxAZk0fZbk954gOO9e2&t=1634219349&persistent_id=166668650\n",
      "\n",
      "В образцах крови космонавтов обнаружены три биомаркера повреждения мозга\n",
      "2021-10-14 14:23 FBM.ru\n",
      "Было обнаружено множество серьезных «космических болезней»: атрофия мышц, изменение костей и ухудшение зрения и т.д. В новом исследовании немецкие ученые из Мюнхенского университета Людвига-Максимилиана при поддержке коллег из Гетеборгского университета и Института медико-биологических проблем РАН по образцам крови выявили признаки повреждения клеток мозга.\n",
      "https://yandex.ru/news/story/Vobrazcakh_krovi_kosmonavtov_obnaruzheny_tri_biomarkera_povrezhdeniya_mozga--86d4b94157fba323d573ed17674c0593?lang=ru&rubric=science&fan=1&stid=UC0htlwTmq4RHF_h66cu&t=1634219349&persistent_id=166271301\n",
      "\n",
      "В США обнаружили обугленные семена табака возрастом более 12 тысяч лет\n",
      "2021-10-14 12:43 N+1\n",
      "Археологи обнаружили в ходе раскопок древней стоянки на западе США четыре обугленных семени табака, возраст которых около 12300 лет, что делает их древнейшим вероятным свидетельством употребления человеком этого растения.\n",
      "https://yandex.ru/news/story/VSSHA_obnaruzhili_obuglennye_semena_tabaka_vozrastom_bolee_12_tysyach_let--58f711f34cac4eacec86c0f140e1991b?lang=ru&rubric=science&fan=1&stid=KRy4DgGO0bArSugi59Ec&t=1634219349&persistent_id=166183236\n",
      "\n",
      "ДНК фекалий показала, что древние люди Австрии 2700 лет назад пили пиво и ели голубой сыр\n",
      "2021-10-14 16:38 FBM.ru\n",
      "Полученные результаты являются первым доказательством того, что люди производили голубой сыр в Европе железного века почти 2700 лет назад.\n",
      "https://yandex.ru/news/story/DNK_fekalij_pokazala_chto_drevnie_lyudi_Avstrii_2700_let_nazad_pili_pivo_i_eli_goluboj_syr--052ae9afc185e989cfc4a368ecf286af?lang=ru&rubric=science&fan=1&stid=apwi5AsTuDls17PA6R2T&t=1634219349&persistent_id=166620483\n",
      "\n",
      "Исследователь Арно Висмар: запах путресцина вызвал тревогу у респондентов\n",
      "2021-10-14 16:27 Телеканал 360°\n",
      "Исследователь Арно Висмар из школы психологии Университета Кента в Великобритании смог предположить, какой запах ассоциируется со смертью.\n",
      "https://yandex.ru/news/story/Issledovatel_Arno_Vismar_zapakh_putrescina_vyzval_trevogu_urespondentov--e3353553a0359f29d54f6678ca923243?lang=ru&rubric=science&fan=1&stid=NpKpYFCebPfLsdhTGcCU&t=1634219349&persistent_id=166640033\n",
      "\n",
      "Студентка БФУ имени Канта нашла затопленный корабль в Балтийском море у Куршской косы\n",
      "2021-10-14 16:27 FBM.ru\n",
      "Недалеко от Куршской косы, которая находится в Балтийском море, было найдено затопленное военное судно.\n",
      "https://yandex.ru/news/story/Studentka_BFU_imeni_Kanta_nashla_zatoplennyj_korabl_vBaltijskom_more_uKurshskoj_kosy--06f4361b671937bd67af7094a3601928?lang=ru&rubric=science&fan=1&stid=qdxAZk0fZbk954gOO9e2&t=1634219349&persistent_id=166668650\n",
      "\n",
      "В образцах крови космонавтов обнаружены три биомаркера повреждения мозга\n",
      "2021-10-14 14:23 FBM.ru\n",
      "Было обнаружено множество серьезных «космических болезней»: атрофия мышц, изменение костей и ухудшение зрения и т.д. В новом исследовании немецкие ученые из Мюнхенского университета Людвига-Максимилиана при поддержке коллег из Гетеборгского университета и Института медико-биологических проблем РАН по образцам крови выявили признаки повреждения клеток мозга.\n",
      "https://yandex.ru/news/story/Vobrazcakh_krovi_kosmonavtov_obnaruzheny_tri_biomarkera_povrezhdeniya_mozga--86d4b94157fba323d573ed17674c0593?lang=ru&rubric=science&fan=1&stid=UC0htlwTmq4RHF_h66cu&t=1634219349&persistent_id=166271301\n",
      "\n",
      "В США обнаружили обугленные семена табака возрастом более 12 тысяч лет\n",
      "2021-10-14 12:43 N+1\n",
      "Археологи обнаружили в ходе раскопок древней стоянки на западе США четыре обугленных семени табака, возраст которых около 12300 лет, что делает их древнейшим вероятным свидетельством употребления человеком этого растения.\n",
      "https://yandex.ru/news/story/VSSHA_obnaruzhili_obuglennye_semena_tabaka_vozrastom_bolee_12_tysyach_let--58f711f34cac4eacec86c0f140e1991b?lang=ru&rubric=science&fan=1&stid=KRy4DgGO0bArSugi59Ec&t=1634219349&persistent_id=166183236\n",
      "\n"
     ]
    }
   ],
   "source": [
    "dom = html.fromstring(response.text)\n",
    "\n",
    "all_news = []\n",
    "\n",
    "for rubric in rubrics:\n",
    "    \n",
    "    if rubric in db.list_collection_names():\n",
    "        news_collection = db.get_collection(rubric)\n",
    "    else:\n",
    "        news_collection = db.create_collection(rubric)\n",
    "\n",
    "        items = dom.xpath(f\"//a[contains(@href,'rubric={rubric}') and @class='mg-card__link']/ancestor::article\")\n",
    "\n",
    "    for item in items:\n",
    "        news = {}\n",
    "        title = item.xpath(\".//h2[@class='mg-card__title']/text()\")[0].replace('\\xa0', ' ')\n",
    "        annotation = item.xpath(\".//div[@class='mg-card__annotation']/text()\")[0].replace('\\xa0', ' ')\n",
    "        link = item.xpath(\".//h2[@class='mg-card__title']/../@href\")[0]\n",
    "        posting_time = item.xpath(\".//span[@class='mg-card-source__time']/text()\")[0]\n",
    "        source = item.xpath(\".//a[@class='mg-card__source-link']/text()\")[0]\n",
    "\n",
    "        print(title)\n",
    "                \n",
    "        if len(posting_time) == 5:\n",
    "            date_time = str(datetime.today().date()) + ' ' + posting_time\n",
    "        elif posting_time.startswith('вчера'):\n",
    "            date_time = str(datetime.today().date() - timedelta(1)) + ' ' + posting_time.split()[2]\n",
    "        else: \n",
    "            date_time = posting_time\n",
    "        \n",
    "        print(date_time, source)\n",
    "        print(annotation)\n",
    "        print(link)\n",
    "        print()\n",
    "\n",
    "        news['title'] = title\n",
    "        news['date_time'] = date_time\n",
    "        news['source'] = source\n",
    "        news['annotation'] = annotation\n",
    "        news['link'] = link\n",
    "\n",
    "        try:\n",
    "            news_collection.insert_one(news)\n",
    "            news_collection.create_index('link', unique=True)\n",
    "        except dke:\n",
    "            continue"
   ]
  }
 ],
 "metadata": {
  "kernelspec": {
   "display_name": "Python 3",
   "language": "python",
   "name": "python3"
  },
  "language_info": {
   "codemirror_mode": {
    "name": "ipython",
    "version": 3
   },
   "file_extension": ".py",
   "mimetype": "text/x-python",
   "name": "python",
   "nbconvert_exporter": "python",
   "pygments_lexer": "ipython3",
   "version": "3.8.8"
  }
 },
 "nbformat": 4,
 "nbformat_minor": 5
}
