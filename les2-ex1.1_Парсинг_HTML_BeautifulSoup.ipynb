{
 "cells": [
  {
   "cell_type": "markdown",
   "id": "57820bc5",
   "metadata": {},
   "source": [
    "# _!!! Черновик. Не завершено !!!_"
   ]
  },
  {
   "cell_type": "markdown",
   "id": "e5a18bae",
   "metadata": {},
   "source": [
    "# Тема \"Методы сбора и обработки данных из сети Интернет\""
   ]
  },
  {
   "cell_type": "markdown",
   "id": "5e3d7bcf",
   "metadata": {},
   "source": [
    "### Урок 2. Парсинг HTML. BeautifulSoup"
   ]
  },
  {
   "cell_type": "markdown",
   "id": "cbc7151a",
   "metadata": {},
   "source": [
    "---\n",
    "### Задание 1\n",
    "\n",
    "Необходимо собрать информацию о вакансиях на вводимую должность (используем `input` или через аргументы получаем должность) с сайтов **HH**(обязательно) и/или **Superjob** (по желанию). Приложение должно анализировать несколько страниц сайта (также вводим через `input` или аргументы). Получившийся список должен содержать в себе минимум:\n",
    "1. Наименование вакансии.\n",
    "2. Предлагаемую зарплату (разносим в три поля: минимальная и максимальная и валюта. цифры преобразуем к цифрам).\n",
    "3. Ссылку на саму вакансию.\n",
    "4. Сайт, откуда собрана вакансия.\n",
    "\n",
    "По желанию можно добавить ещё параметры вакансии (например, работодателя и расположение). Структура должна быть одинаковая для вакансий с обоих сайтов. Общий результат можно вывести с помощью `dataFrame` через `pandas`. Сохраните в `json` либо `csv`."
   ]
  },
  {
   "cell_type": "code",
   "execution_count": null,
   "id": "a44633f0",
   "metadata": {},
   "outputs": [],
   "source": [
    "import requests\n",
    "from bs4 import BeautifulSoup as bs\n",
    "import json\n",
    "from pprint import pprint"
   ]
  },
  {
   "cell_type": "code",
   "execution_count": 24,
   "id": "dd93677c",
   "metadata": {},
   "outputs": [],
   "source": [
    "# position = input('Введите искомую должность: ')\n",
    "position = 'Программист python'"
   ]
  },
  {
   "cell_type": "code",
   "execution_count": 25,
   "id": "a61d62ba",
   "metadata": {},
   "outputs": [],
   "source": [
    "# https://hh.ru/search/vacancy?area=1&fromSearchLine=true&st=searchVacancy&text=Программист+python&from=suggest_post\n",
    "url = 'https://hh.ru'\n",
    "params = {'area': 1,\n",
    "          'fromSearchLine': 'true',\n",
    "          'st': 'searchVacancy',\n",
    "          'text': position\n",
    "         }\n",
    "headers = {'User-Agent': 'Mozilla/5.0 (Windows NT 10.0; Win64; x64) AppleWebKit/537.36 (KHTML, like Gecko) Chrome/94.0.4606.61 Safari/537.36 Edg/94.0.992.31'}"
   ]
  },
  {
   "cell_type": "code",
   "execution_count": 26,
   "id": "580656f0",
   "metadata": {},
   "outputs": [],
   "source": [
    "url_full = url + '/search/vacancy'"
   ]
  },
  {
   "cell_type": "code",
   "execution_count": 27,
   "id": "9931357a",
   "metadata": {},
   "outputs": [],
   "source": [
    "positions = []"
   ]
  },
  {
   "cell_type": "code",
   "execution_count": 28,
   "id": "1cd2f8a7",
   "metadata": {},
   "outputs": [],
   "source": [
    "# Если необходимо, то используем PROXY\n",
    "proxies = {\n",
    "  'http': 'http://ip:port',\n",
    "  'https': 'http://ip:port',\n",
    "}"
   ]
  },
  {
   "cell_type": "code",
   "execution_count": 29,
   "id": "099d8bb8",
   "metadata": {},
   "outputs": [
    {
     "name": "stdout",
     "output_type": "stream",
     "text": [
      "[{'adress': 'Москва, Комсомольская',\n",
      "  'employer': ' Альфа-Банк',\n",
      "  'link': 'https://hh.ru/vacancy/47769125?from=vacancy_search_list&query=%D0%9F%D1%80%D0%BE%D0%B3%D1%80%D0%B0%D0%BC%D0%BC%D0%B8%D1%81%D1%82%20python',\n",
      "  'title': 'Python - разработчик',\n",
      "  'website': 'https://hh.ru'},\n",
      " {'adress': 'Москва, Кутузовская',\n",
      "  'employer': 'Домклик',\n",
      "  'link': 'https://hh.ru/vacancy/48447671?from=vacancy_search_list&query=%D0%9F%D1%80%D0%BE%D0%B3%D1%80%D0%B0%D0%BC%D0%BC%D0%B8%D1%81%D1%82%20python',\n",
      "  'title': 'Python разработчик (Качество данных)',\n",
      "  'website': 'https://hh.ru'},\n",
      " {'adress': 'Москва',\n",
      "  'employer': 'Сбер. IT',\n",
      "  'link': 'https://hh.ru/vacancy/47967656?from=vacancy_search_list&query=%D0%9F%D1%80%D0%BE%D0%B3%D1%80%D0%B0%D0%BC%D0%BC%D0%B8%D1%81%D1%82%20python',\n",
      "  'title': 'Python-разработчик',\n",
      "  'website': 'https://hh.ru'},\n",
      " {'adress': 'Москва, Бауманская и еще 2 ',\n",
      "  'employer': 'ООО Фортес ПРО',\n",
      "  'link': 'https://hh.ru/vacancy/48099539?from=vacancy_search_list&query=%D0%9F%D1%80%D0%BE%D0%B3%D1%80%D0%B0%D0%BC%D0%BC%D0%B8%D1%81%D1%82%20python',\n",
      "  'title': 'Backend - разработчик',\n",
      "  'website': 'https://hh.ru'},\n",
      " {'adress': 'Москва',\n",
      "  'employer': 'Unikoom',\n",
      "  'link': 'https://hh.ru/vacancy/48419670?from=vacancy_search_list&query=%D0%9F%D1%80%D0%BE%D0%B3%D1%80%D0%B0%D0%BC%D0%BC%D0%B8%D1%81%D1%82%20python',\n",
      "  'title': 'Middle/Senior Python developer',\n",
      "  'website': 'https://hh.ru'},\n",
      " {'adress': 'Москва',\n",
      "  'employer': 'ArtVolkov.ru',\n",
      "  'link': 'https://hh.ru/vacancy/48457284?from=vacancy_search_list&query=%D0%9F%D1%80%D0%BE%D0%B3%D1%80%D0%B0%D0%BC%D0%BC%D0%B8%D1%81%D1%82%20python',\n",
      "  'title': 'Разработчик Rust/Разработчик Go/Разрабочтик python(удаленно)',\n",
      "  'website': 'https://hh.ru'},\n",
      " {'adress': 'Москва',\n",
      "  'employer': 'Точка',\n",
      "  'link': 'https://hh.ru/vacancy/47682360?from=vacancy_search_list&query=%D0%9F%D1%80%D0%BE%D0%B3%D1%80%D0%B0%D0%BC%D0%BC%D0%B8%D1%81%D1%82%20python',\n",
      "  'title': 'Python разработчик',\n",
      "  'website': 'https://hh.ru'},\n",
      " {'adress': 'Москва, Марьина Роща',\n",
      "  'employer': 'ООО Аналитические программные решения',\n",
      "  'link': 'https://hh.ru/vacancy/47861001?from=vacancy_search_list&query=%D0%9F%D1%80%D0%BE%D0%B3%D1%80%D0%B0%D0%BC%D0%BC%D0%B8%D1%81%D1%82%20python',\n",
      "  'title': 'Стажер разработчик Python',\n",
      "  'website': 'https://hh.ru'},\n",
      " {'adress': 'Москва',\n",
      "  'employer': 'Ergeon',\n",
      "  'link': 'https://hh.ru/vacancy/47972375?from=vacancy_search_list&query=%D0%9F%D1%80%D0%BE%D0%B3%D1%80%D0%B0%D0%BC%D0%BC%D0%B8%D1%81%D1%82%20python',\n",
      "  'title': 'Бэкэнд-разработчик (Python, Django)',\n",
      "  'website': 'https://hh.ru'},\n",
      " {'adress': 'Москва',\n",
      "  'employer': 'DAILO',\n",
      "  'link': 'https://hh.ru/vacancy/48501689?from=vacancy_search_list&query=%D0%9F%D1%80%D0%BE%D0%B3%D1%80%D0%B0%D0%BC%D0%BC%D0%B8%D1%81%D1%82%20python',\n",
      "  'title': 'Python Developer (Django)',\n",
      "  'website': 'https://hh.ru'},\n",
      " {'adress': 'Москва',\n",
      "  'employer': 'ООО Инспектор Клауд',\n",
      "  'link': 'https://hh.ru/vacancy/48140661?from=vacancy_search_list&query=%D0%9F%D1%80%D0%BE%D0%B3%D1%80%D0%B0%D0%BC%D0%BC%D0%B8%D1%81%D1%82%20python',\n",
      "  'title': 'Разработчик Python',\n",
      "  'website': 'https://hh.ru'},\n",
      " {'adress': 'Москва',\n",
      "  'employer': 'VIRTUAL ASSISTANTS',\n",
      "  'link': 'https://hh.ru/vacancy/48485942?from=vacancy_search_list&query=%D0%9F%D1%80%D0%BE%D0%B3%D1%80%D0%B0%D0%BC%D0%BC%D0%B8%D1%81%D1%82%20python',\n",
      "  'title': 'Программист Python (Junior/Middle)',\n",
      "  'website': 'https://hh.ru'},\n",
      " {'adress': 'Москва',\n",
      "  'employer': 'ИП Брусова Татьяна Анатольевна',\n",
      "  'link': 'https://hh.ru/vacancy/47947303?from=vacancy_search_list&query=%D0%9F%D1%80%D0%BE%D0%B3%D1%80%D0%B0%D0%BC%D0%BC%D0%B8%D1%81%D1%82%20python',\n",
      "  'title': 'Разработчик Python',\n",
      "  'website': 'https://hh.ru'},\n",
      " {'adress': 'Москва',\n",
      "  'employer': 'ИП Галлямов Раиль Нафисович',\n",
      "  'link': 'https://hh.ru/vacancy/48259518?from=vacancy_search_list&query=%D0%9F%D1%80%D0%BE%D0%B3%D1%80%D0%B0%D0%BC%D0%BC%D0%B8%D1%81%D1%82%20python',\n",
      "  'title': 'Программист Python Backend',\n",
      "  'website': 'https://hh.ru'},\n",
      " {'adress': 'Москва',\n",
      "  'employer': 'ООО ФармХаб',\n",
      "  'link': 'https://hh.ru/vacancy/48281261?from=vacancy_search_list&query=%D0%9F%D1%80%D0%BE%D0%B3%D1%80%D0%B0%D0%BC%D0%BC%D0%B8%D1%81%D1%82%20python',\n",
      "  'title': 'Python Data Engineer',\n",
      "  'website': 'https://hh.ru'},\n",
      " {'adress': 'Москва',\n",
      "  'employer': 'WOLBE',\n",
      "  'link': 'https://hh.ru/vacancy/48347828?from=vacancy_search_list&query=%D0%9F%D1%80%D0%BE%D0%B3%D1%80%D0%B0%D0%BC%D0%BC%D0%B8%D1%81%D1%82%20python',\n",
      "  'title': 'Программист Python',\n",
      "  'website': 'https://hh.ru'},\n",
      " {'adress': 'Москва, Белорусская',\n",
      "  'employer': 'ООО ИнфоТех',\n",
      "  'link': 'https://hh.ru/vacancy/43244378?from=vacancy_search_list&query=%D0%9F%D1%80%D0%BE%D0%B3%D1%80%D0%B0%D0%BC%D0%BC%D0%B8%D1%81%D1%82%20python',\n",
      "  'title': 'Программист Python/Java',\n",
      "  'website': 'https://hh.ru'},\n",
      " {'adress': 'Москва, Парк культуры',\n",
      "  'employer': 'Яндекс',\n",
      "  'link': 'https://hh.ru/vacancy/48502238?from=vacancy_search_list&query=%D0%9F%D1%80%D0%BE%D0%B3%D1%80%D0%B0%D0%BC%D0%BC%D0%B8%D1%81%D1%82%20python',\n",
      "  'title': 'Стажер-разработчик бэкенда (Python)',\n",
      "  'website': 'https://hh.ru'},\n",
      " {'adress': 'Москва, Котельники',\n",
      "  'employer': 'ЭКСПО-ТОРГ',\n",
      "  'link': 'https://hh.ru/vacancy/48396921?from=vacancy_search_list&query=%D0%9F%D1%80%D0%BE%D0%B3%D1%80%D0%B0%D0%BC%D0%BC%D0%B8%D1%81%D1%82%20python',\n",
      "  'title': 'Разработчик Python',\n",
      "  'website': 'https://hh.ru'},\n",
      " {'adress': 'Москва, Калужская',\n",
      "  'employer': 'idaproject',\n",
      "  'link': 'https://hh.ru/vacancy/46976315?from=vacancy_search_list&query=%D0%9F%D1%80%D0%BE%D0%B3%D1%80%D0%B0%D0%BC%D0%BC%D0%B8%D1%81%D1%82%20python',\n",
      "  'title': 'Python разработчик',\n",
      "  'website': 'https://hh.ru'}]\n"
     ]
    }
   ],
   "source": [
    "# while True:\n",
    "response = requests.get(url_full, proxies=proxies, params=params, headers=headers)\n",
    "soup = bs(response.text, 'html.parser')\n",
    "\n",
    "position_list = soup.find_all('div', attrs={'class': 'vacancy-serp-item'})\n",
    "    \n",
    "# pprint(position_list)\n",
    "    \n",
    "#     if not position_list or not response.ok:\n",
    "#         break\n",
    "    \n",
    "for position in position_list:\n",
    "    position_data = {}\n",
    "    \n",
    "    position_info1 = position.find('a', attrs={'data-qa': 'vacancy-serp__vacancy-title'})\n",
    "    position_info2 = position.find('span', attrs={'data-qa': 'vacancy-serp__vacancy-address'})\n",
    "    position_info3 = position.find('a', attrs={'data-qa': 'vacancy-serp__vacancy-employer'})\n",
    "    \n",
    "    position_title = position_info1.text\n",
    "    position_link = position_info1['href']\n",
    "    position_adress = position_info2.text\n",
    "    position_employer = position_info3.getText().replace(u'\\xa0', u' ')\n",
    "    \n",
    "    position_data['title'] = position_title\n",
    "    position_data['link'] = position_link\n",
    "    position_data['website'] = url\n",
    "    position_data['adress'] = position_adress\n",
    "    position_data['employer'] = position_employer\n",
    "\n",
    "    positions.append(position_data)\n",
    "\n",
    "pprint(positions)\n",
    "\n",
    "\n",
    "\n",
    "#     params['page'] += 1\n",
    "    \n",
    "#     # кнопка \"дальше\"\n",
    "#     button_next = soup.find('a', text='дальше')\n",
    "    \n",
    "#     # Проверяем есть ли кнопка \"дальше\"\n",
    "#     if not button_next or not response.ok:\n",
    "#         break\n",
    "\n",
    "#     # Добавляем в параметры страницу\n",
    "#     page += 1\n",
    "#     params = {'area': 1,\n",
    "#                 'fromSearchLine': 'true',\n",
    "#                 'st': 'searchVacancy',\n",
    "#                 'text': position,\n",
    "#                 'page': page\n",
    "#                }"
   ]
  },
  {
   "cell_type": "code",
   "execution_count": null,
   "id": "aa518ba9",
   "metadata": {},
   "outputs": [],
   "source": [
    "with open('C:\\\\Users\\\\abin_dy\\\\Desktop\\\\positions.json', 'w') as f:\n",
    "    json.dump(positions, f, indent=4)\n",
    "print(\"Данные сохранены в файл: positions.json\")"
   ]
  },
  {
   "cell_type": "code",
   "execution_count": null,
   "id": "de8ea055",
   "metadata": {},
   "outputs": [],
   "source": [
    "print(json.dumps(positions, indent=4))"
   ]
  }
 ],
 "metadata": {
  "kernelspec": {
   "display_name": "Python 3",
   "language": "python",
   "name": "python3"
  },
  "language_info": {
   "codemirror_mode": {
    "name": "ipython",
    "version": 3
   },
   "file_extension": ".py",
   "mimetype": "text/x-python",
   "name": "python",
   "nbconvert_exporter": "python",
   "pygments_lexer": "ipython3",
   "version": "3.8.8"
  }
 },
 "nbformat": 4,
 "nbformat_minor": 5
}
